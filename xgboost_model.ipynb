{
 "cells": [
  {
   "cell_type": "code",
   "execution_count": 1,
   "metadata": {},
   "outputs": [],
   "source": [
    "import sklearn\n",
    "import pandas as pd\n",
    "import seaborn as sns\n",
    "import numpy as np\n",
    "import shap\n",
    "import tqdm\n",
    "from sklearn import preprocessing\n",
    "import xgboost\n",
    "from sklearn.model_selection import train_test_split\n",
    "from sklearn.preprocessing import MinMaxScaler\n",
    "from scipy.stats import spearmanr\n",
    "import sklearn\n",
    "import matplotlib.pyplot as plt\n",
    "\n",
    "\n",
    "\n",
    "rand_seed = 956825\n",
    "\n"
   ]
  },
  {
   "cell_type": "markdown",
   "metadata": {},
   "source": [
    "Below are the funcitons used throughout the code:"
   ]
  },
  {
   "cell_type": "code",
   "execution_count": 20,
   "metadata": {},
   "outputs": [],
   "source": [
    "def run_xgboost(n_estimators=1000, max_depth=6, X_train=[0], y_train=[0], X_val=[0], y_val=[0], X_test=[0]):\n",
    "  '''A function combining the training and prediction of an XGBoost model\n",
    "  Args:\n",
    "    n_estimators (int): the number of trees in the forest\n",
    "    max_depth (int): the maximum depth of the trees\n",
    "  Returns:\n",
    "    model_xgb (XGBRegressor): the trained model\n",
    "    spearman (SignificanceResult): the Spearman rank statistics\n",
    "  '''\n",
    "\n",
    "  #create the xgboost regression model and train on the training data\n",
    "  model_xgb = xgboost.XGBRegressor(n_estimators=n_estimators, \n",
    "                                   max_depth=max_depth)\n",
    "  model_xgb.fit(X_train, y_train)\n",
    "\n",
    "  # Get the predictions on the validation set\n",
    "  y_pred_xgb_val = model_xgb.predict(X_val)\n",
    "\n",
    "  #get the predictions on the test set\n",
    "  y_pred_xgb_test = model_xgb.predict(X_test)\n",
    "\n",
    "  # Calculate spearman rank correlation between true and predicted values\n",
    "  spearman = spearmanr(y_val, y_pred_xgb_val)\n",
    "\n",
    "  #output the xgboost model and the spearman rank correlation\n",
    "  return model_xgb, spearman, y_pred_xgb_test\n",
    "\n",
    "\n",
    "#return the feature importances of the model\n",
    "def get_feature_importances(model_xgb, feature_names):\n",
    "  '''Get the feature importances of a trained XGBoost model\n",
    "  Args:\n",
    "    model_xgb (XGBRegressor): the trained model\n",
    "    feature_names (list): the names of the features\n",
    "  Returns:\n",
    "    feature_importances (pd.Series): the feature importances\n",
    "  '''\n",
    "  feature_importances = pd.Series(model_xgb.feature_importances_, index=feature_names)\n",
    "  return feature_importances\n",
    "\n",
    "\n",
    "\n",
    "#plot the feature importances\n",
    "def plot_feature_importances(feature_importances, title=\"Feature Importances\", figsize=(6, 6)):\n",
    "  '''Plot the feature importances of a trained XGBoost model\n",
    "  Args:\n",
    "    feature_importances (pd.Series): the feature importances\n",
    "    title (str): the title of the plot\n",
    "    figsize (tuple): the size of the plot\n",
    "  '''\n",
    "  plt.figure(figsize=figsize)\n",
    "  feature_importances.sort_values().plot(kind=\"barh\")\n",
    "  plt.title(title)\n",
    "  plt.show()\n",
    "\n"
   ]
  },
  {
   "cell_type": "markdown",
   "metadata": {},
   "source": [
    "Next we import the data and look at it"
   ]
  },
  {
   "cell_type": "code",
   "execution_count": 148,
   "metadata": {},
   "outputs": [
    {
     "data": {
      "text/html": [
       "<div>\n",
       "<style scoped>\n",
       "    .dataframe tbody tr th:only-of-type {\n",
       "        vertical-align: middle;\n",
       "    }\n",
       "\n",
       "    .dataframe tbody tr th {\n",
       "        vertical-align: top;\n",
       "    }\n",
       "\n",
       "    .dataframe thead th {\n",
       "        text-align: right;\n",
       "    }\n",
       "</style>\n",
       "<table border=\"1\" class=\"dataframe\">\n",
       "  <thead>\n",
       "    <tr style=\"text-align: right;\">\n",
       "      <th></th>\n",
       "      <th>Radius (m)</th>\n",
       "      <th>Aspect Ratio</th>\n",
       "      <th>Pressure Drop (Pa)</th>\n",
       "      <th>Pressure Gradient(Pa m^-1)</th>\n",
       "      <th>Apparent Wall Shear Rate (s^-1)</th>\n",
       "      <th>Volumetric Flow Rate (m^3 s^-1)</th>\n",
       "      <th>Shear Thinning Index</th>\n",
       "      <th>Viscosity Consistency (Pa s^n)</th>\n",
       "    </tr>\n",
       "  </thead>\n",
       "  <tbody>\n",
       "    <tr>\n",
       "      <th>0</th>\n",
       "      <td>0.00025</td>\n",
       "      <td>10.0</td>\n",
       "      <td>16650000.0</td>\n",
       "      <td>3.330000e+09</td>\n",
       "      <td>6.200036</td>\n",
       "      <td>7.608589e-11</td>\n",
       "      <td>0.67</td>\n",
       "      <td>1100.0</td>\n",
       "    </tr>\n",
       "    <tr>\n",
       "      <th>1</th>\n",
       "      <td>0.00025</td>\n",
       "      <td>10.0</td>\n",
       "      <td>16650000.0</td>\n",
       "      <td>3.330000e+09</td>\n",
       "      <td>6.100615</td>\n",
       "      <td>7.486581e-11</td>\n",
       "      <td>0.67</td>\n",
       "      <td>1100.0</td>\n",
       "    </tr>\n",
       "    <tr>\n",
       "      <th>2</th>\n",
       "      <td>0.00025</td>\n",
       "      <td>10.0</td>\n",
       "      <td>16650000.0</td>\n",
       "      <td>3.330000e+09</td>\n",
       "      <td>6.001195</td>\n",
       "      <td>7.364574e-11</td>\n",
       "      <td>0.67</td>\n",
       "      <td>1100.0</td>\n",
       "    </tr>\n",
       "    <tr>\n",
       "      <th>3</th>\n",
       "      <td>0.00025</td>\n",
       "      <td>10.0</td>\n",
       "      <td>16650000.0</td>\n",
       "      <td>3.330000e+09</td>\n",
       "      <td>5.901774</td>\n",
       "      <td>7.242567e-11</td>\n",
       "      <td>0.67</td>\n",
       "      <td>1100.0</td>\n",
       "    </tr>\n",
       "    <tr>\n",
       "      <th>4</th>\n",
       "      <td>0.00025</td>\n",
       "      <td>10.0</td>\n",
       "      <td>16650000.0</td>\n",
       "      <td>3.330000e+09</td>\n",
       "      <td>5.802354</td>\n",
       "      <td>7.120559e-11</td>\n",
       "      <td>0.67</td>\n",
       "      <td>1100.0</td>\n",
       "    </tr>\n",
       "  </tbody>\n",
       "</table>\n",
       "</div>"
      ],
      "text/plain": [
       "   Radius (m)  Aspect Ratio  Pressure Drop (Pa)  Pressure Gradient(Pa m^-1)  \\\n",
       "0     0.00025          10.0          16650000.0                3.330000e+09   \n",
       "1     0.00025          10.0          16650000.0                3.330000e+09   \n",
       "2     0.00025          10.0          16650000.0                3.330000e+09   \n",
       "3     0.00025          10.0          16650000.0                3.330000e+09   \n",
       "4     0.00025          10.0          16650000.0                3.330000e+09   \n",
       "\n",
       "   Apparent Wall Shear Rate (s^-1)  Volumetric Flow Rate (m^3 s^-1)  \\\n",
       "0                         6.200036                     7.608589e-11   \n",
       "1                         6.100615                     7.486581e-11   \n",
       "2                         6.001195                     7.364574e-11   \n",
       "3                         5.901774                     7.242567e-11   \n",
       "4                         5.802354                     7.120559e-11   \n",
       "\n",
       "   Shear Thinning Index  Viscosity Consistency (Pa s^n)  \n",
       "0                  0.67                          1100.0  \n",
       "1                  0.67                          1100.0  \n",
       "2                  0.67                          1100.0  \n",
       "3                  0.67                          1100.0  \n",
       "4                  0.67                          1100.0  "
      ]
     },
     "metadata": {},
     "output_type": "display_data"
    },
    {
     "data": {
      "text/html": [
       "<div>\n",
       "<style scoped>\n",
       "    .dataframe tbody tr th:only-of-type {\n",
       "        vertical-align: middle;\n",
       "    }\n",
       "\n",
       "    .dataframe tbody tr th {\n",
       "        vertical-align: top;\n",
       "    }\n",
       "\n",
       "    .dataframe thead th {\n",
       "        text-align: right;\n",
       "    }\n",
       "</style>\n",
       "<table border=\"1\" class=\"dataframe\">\n",
       "  <thead>\n",
       "    <tr style=\"text-align: right;\">\n",
       "      <th></th>\n",
       "      <th>Plug Flow Rate (m^3 s^-1)</th>\n",
       "      <th>Slip Flow Rate (m^3 s^-1)</th>\n",
       "    </tr>\n",
       "  </thead>\n",
       "  <tbody>\n",
       "    <tr>\n",
       "      <th>0</th>\n",
       "      <td>6.795206e-11</td>\n",
       "      <td>8.133827e-12</td>\n",
       "    </tr>\n",
       "    <tr>\n",
       "      <th>1</th>\n",
       "      <td>6.795206e-11</td>\n",
       "      <td>6.913753e-12</td>\n",
       "    </tr>\n",
       "    <tr>\n",
       "      <th>2</th>\n",
       "      <td>6.795206e-11</td>\n",
       "      <td>5.693679e-12</td>\n",
       "    </tr>\n",
       "    <tr>\n",
       "      <th>3</th>\n",
       "      <td>6.795206e-11</td>\n",
       "      <td>4.473605e-12</td>\n",
       "    </tr>\n",
       "    <tr>\n",
       "      <th>4</th>\n",
       "      <td>6.795206e-11</td>\n",
       "      <td>3.253531e-12</td>\n",
       "    </tr>\n",
       "  </tbody>\n",
       "</table>\n",
       "</div>"
      ],
      "text/plain": [
       "   Plug Flow Rate (m^3 s^-1)  Slip Flow Rate (m^3 s^-1)\n",
       "0               6.795206e-11               8.133827e-12\n",
       "1               6.795206e-11               6.913753e-12\n",
       "2               6.795206e-11               5.693679e-12\n",
       "3               6.795206e-11               4.473605e-12\n",
       "4               6.795206e-11               3.253531e-12"
      ]
     },
     "metadata": {},
     "output_type": "display_data"
    },
    {
     "data": {
      "text/html": [
       "<div>\n",
       "<style scoped>\n",
       "    .dataframe tbody tr th:only-of-type {\n",
       "        vertical-align: middle;\n",
       "    }\n",
       "\n",
       "    .dataframe tbody tr th {\n",
       "        vertical-align: top;\n",
       "    }\n",
       "\n",
       "    .dataframe thead th {\n",
       "        text-align: right;\n",
       "    }\n",
       "</style>\n",
       "<table border=\"1\" class=\"dataframe\">\n",
       "  <thead>\n",
       "    <tr style=\"text-align: right;\">\n",
       "      <th></th>\n",
       "      <th>Yield Stress (Pa)</th>\n",
       "      <th>Slip Yield Stress (Pa)</th>\n",
       "      <th>Beta</th>\n",
       "    </tr>\n",
       "  </thead>\n",
       "  <tbody>\n",
       "    <tr>\n",
       "      <th>0</th>\n",
       "      <td>10000.0</td>\n",
       "      <td>1000.0</td>\n",
       "      <td>1.000000e-10</td>\n",
       "    </tr>\n",
       "    <tr>\n",
       "      <th>1</th>\n",
       "      <td>10000.0</td>\n",
       "      <td>1000.0</td>\n",
       "      <td>8.500000e-11</td>\n",
       "    </tr>\n",
       "    <tr>\n",
       "      <th>2</th>\n",
       "      <td>10000.0</td>\n",
       "      <td>1000.0</td>\n",
       "      <td>7.000000e-11</td>\n",
       "    </tr>\n",
       "    <tr>\n",
       "      <th>3</th>\n",
       "      <td>10000.0</td>\n",
       "      <td>1000.0</td>\n",
       "      <td>5.500000e-11</td>\n",
       "    </tr>\n",
       "    <tr>\n",
       "      <th>4</th>\n",
       "      <td>10000.0</td>\n",
       "      <td>1000.0</td>\n",
       "      <td>4.000000e-11</td>\n",
       "    </tr>\n",
       "  </tbody>\n",
       "</table>\n",
       "</div>"
      ],
      "text/plain": [
       "   Yield Stress (Pa)  Slip Yield Stress (Pa)          Beta\n",
       "0            10000.0                  1000.0  1.000000e-10\n",
       "1            10000.0                  1000.0  8.500000e-11\n",
       "2            10000.0                  1000.0  7.000000e-11\n",
       "3            10000.0                  1000.0  5.500000e-11\n",
       "4            10000.0                  1000.0  4.000000e-11"
      ]
     },
     "metadata": {},
     "output_type": "display_data"
    }
   ],
   "source": [
    "#load the calculated theoretical data from the csv file into a pandas dataframe\n",
    "Theoretical_data = pd.read_csv('Theory_data.csv')\n",
    "\n",
    "\n",
    "#load the target values of the parameters into a pandas dataframe\n",
    "Target_Values_all = pd.read_csv('Target_Data.csv')\n",
    "Target_Values_2 = pd.read_csv('Target_Data_2.csv')\n",
    "\n",
    "\n",
    "#look at the first few rows of the data\n",
    "display(Theoretical_data.head())\n",
    "\n",
    "#look at the Given Values\n",
    "display(Target_Values_all.head())\n",
    "display(Target_Values_2.head())\n"
   ]
  },
  {
   "cell_type": "markdown",
   "metadata": {},
   "source": [
    "Create scalers to scale the data and split it into train, validation, test"
   ]
  },
  {
   "cell_type": "code",
   "execution_count": 149,
   "metadata": {},
   "outputs": [
    {
     "name": "stdout",
     "output_type": "stream",
     "text": [
      "(10976, 8) train samples (2744, 8) validation samples (3430, 8) test samples\n",
      "(10976, 2) train samples (2744, 2) validation samples (3430, 2) test samples\n"
     ]
    }
   ],
   "source": [
    "# Create a StandardScaler object\n",
    "Xscaler = MinMaxScaler(feature_range=(0, 100))\n",
    "yscaler = MinMaxScaler(feature_range=(0, 100))\n",
    "\n",
    "#scale the data\n",
    "Theoretical_data_scaled = Xscaler.fit_transform(Theoretical_data)\n",
    "Target_Values_scaled = yscaler.fit_transform(Target_Values_all)\n",
    "\n",
    "#split the data into training and testing data\n",
    "X_train, X_test, y_train, y_test = train_test_split(Theoretical_data_scaled, Target_Values_scaled, test_size=0.2, random_state=rand_seed)\n",
    "\n",
    "#split the training data into training and validation data\n",
    "X_train, X_val, y_train, y_val = train_test_split(X_train, y_train, test_size=0.2, random_state=rand_seed)\n",
    "\n",
    "\n",
    "#print out the shapes of the training, validation, and test data\n",
    "print(X_train.shape, \"train samples\", X_val.shape, \"validation samples\", X_test.shape, \"test samples\")\n",
    "print(y_train.shape, \"train samples\", y_val.shape, \"validation samples\", y_test.shape, \"test samples\")  "
   ]
  },
  {
   "cell_type": "code",
   "execution_count": 150,
   "metadata": {},
   "outputs": [],
   "source": [
    "#Make 2 arrays out of the scaled target values. One for the first target value and one for the second target value\n",
    "y_train_total = y_train\n",
    "y_train = y_train[:,0]\n",
    "\n",
    "y_val_total = y_val\n",
    "y_val = y_val[:,0]\n",
    "\n",
    "\n",
    "y_test_total = y_test\n",
    "y_test = y_test[:,0]\n"
   ]
  },
  {
   "cell_type": "markdown",
   "metadata": {},
   "source": [
    "Run the model and show the feature importance"
   ]
  },
  {
   "cell_type": "code",
   "execution_count": 151,
   "metadata": {},
   "outputs": [
    {
     "name": "stdout",
     "output_type": "stream",
     "text": [
      "0.9996559601855386 0.0\n"
     ]
    },
    {
     "data": {
      "image/png": "[encoded data removed]",
      "text/plain": [
       "<Figure size 600x600 with 1 Axes>"
      ]
     },
     "metadata": {},
     "output_type": "display_data"
    }
   ],
   "source": [
    "model_xgb, spearman, y_pred = run_xgboost(n_estimators=100, max_depth=3, X_train=X_train, y_train=y_train, X_val=X_val, y_val=y_val, X_test=X_test)\n",
    "print(spearman.statistic, spearman.pvalue)\n",
    "\n",
    "# Get the feature importances of the model\n",
    "feature_importances= get_feature_importances(model_xgb, Theoretical_data.columns)\n",
    "\n",
    "# Plot the feature importances\n",
    "plot_feature_importances(feature_importances, title=\"Feature Importances of XGBoost Model\")"
   ]
  },
  {
   "cell_type": "code",
   "execution_count": 157,
   "metadata": {},
   "outputs": [
    {
     "name": "stdout",
     "output_type": "stream",
     "text": [
      "(3430, 2)\n"
     ]
    }
   ],
   "source": []
  },
  {
   "cell_type": "code",
   "execution_count": 156,
   "metadata": {},
   "outputs": [],
   "source": [
    "#add a second column to the y_pred array as a place holder\n",
    "y_pred = np.append(y_pred.reshape(-1,1), y_pred.reshape(-1,1), axis=1)\n",
    "\n",
    "print(y_pred.shape)"
   ]
  },
  {
   "cell_type": "code",
   "execution_count": 158,
   "metadata": {},
   "outputs": [
    {
     "name": "stdout",
     "output_type": "stream",
     "text": [
      "(3430, 2)\n"
     ]
    }
   ],
   "source": [
    "print(y_test_total.shape)"
   ]
  },
  {
   "cell_type": "code",
   "execution_count": 161,
   "metadata": {},
   "outputs": [],
   "source": [
    "#scale the target and predict values back to the original scale\n",
    "X_test_unscaled = Xscaler.inverse_transform(X_test)\n",
    "y_pred_unscaled = yscaler.inverse_transform(y_pred)\n",
    "y_test_total_unscaled = yscaler.inverse_transform(y_test_total)\n"
   ]
  },
  {
   "cell_type": "code",
   "execution_count": 162,
   "metadata": {},
   "outputs": [
    {
     "name": "stdout",
     "output_type": "stream",
     "text": [
      "[[2.50000000e-04 1.00000000e+01 1.66500000e+07 ... 7.59105525e-11\n",
      "  6.70000000e-01 1.10000000e+03]\n",
      " [7.50000000e-04 3.00000000e+01 3.00150000e+09 ... 1.96103676e-07\n",
      "  6.70000000e-01 1.10000000e+03]\n",
      " [5.00000000e-04 2.00000000e+01 2.07422222e+08 ... 4.73975382e-09\n",
      "  6.70000000e-01 1.10000000e+03]\n",
      " ...\n",
      " [5.00000000e-04 2.00000000e+01 6.29888889e+08 ... 1.49598709e-08\n",
      "  6.70000000e-01 1.10000000e+03]\n",
      " [2.50000000e-04 1.00000000e+01 1.22266667e+08 ... 5.50510887e-10\n",
      "  6.70000000e-01 1.10000000e+03]\n",
      " [5.00000000e-04 2.00000000e+01 9.11533333e+08 ... 2.17430928e-08\n",
      "  6.70000000e-01 1.10000000e+03]]\n",
      "[[8.24051244e-11 1.58700754e-12]\n",
      " [1.93456117e-07 4.41239223e-09]\n",
      " [4.63316585e-09 1.05388705e-10]\n",
      " ...\n",
      " [1.47150887e-08 3.35354827e-10]\n",
      " [4.74258577e-10 1.05250851e-11]\n",
      " [2.13423235e-08 4.86520324e-10]]\n",
      "[[6.79520604e-11 7.95849207e-12]\n",
      " [1.93673704e-07 2.42997148e-09]\n",
      " [4.71942944e-09 2.03243781e-11]\n",
      " ...\n",
      " [1.47131420e-08 2.46728869e-10]\n",
      " [4.99579418e-10 5.09314688e-11]\n",
      " [2.13857625e-08 3.57330260e-10]]\n"
     ]
    }
   ],
   "source": [
    "print(X_test_unscaled)\n",
    "print(y_pred_unscaled)\n",
    "print(y_test_total_unscaled)"
   ]
  },
  {
   "cell_type": "code",
   "execution_count": 163,
   "metadata": {},
   "outputs": [],
   "source": [
    "Q_slip_pred = X_test_unscaled[:,5]-y_pred_unscaled[:,0]\n",
    "\n"
   ]
  },
  {
   "cell_type": "code",
   "execution_count": 164,
   "metadata": {},
   "outputs": [],
   "source": [
    "#add the calculated slip values to the unscaled predictions\n",
    "y_pred_unscaled[:,1] = Q_slip_pred"
   ]
  },
  {
   "cell_type": "code",
   "execution_count": 80,
   "metadata": {},
   "outputs": [
    {
     "ename": "IndexError",
     "evalue": "index 1 is out of bounds for axis 1 with size 1",
     "output_type": "error",
     "traceback": [
      "\u001b[1;31m---------------------------------------------------------------------------\u001b[0m",
      "\u001b[1;31mIndexError\u001b[0m                                Traceback (most recent call last)",
      "Cell \u001b[1;32mIn[80], line 5\u001b[0m\n\u001b[0;32m      3\u001b[0m \u001b[38;5;28;01mfor\u001b[39;00m i \u001b[38;5;129;01min\u001b[39;00m \u001b[38;5;28mrange\u001b[39m(y_pred_unscaled\u001b[38;5;241m.\u001b[39mshape[\u001b[38;5;241m1\u001b[39m]):\n\u001b[0;32m      4\u001b[0m     axs[i]\u001b[38;5;241m.\u001b[39mscatter(X_test_unscaled[:, k], y_pred_unscaled[:, i], alpha \u001b[38;5;241m=\u001b[39m \u001b[38;5;241m0.2\u001b[39m, label \u001b[38;5;241m=\u001b[39m \u001b[38;5;124m'\u001b[39m\u001b[38;5;124mPredicted\u001b[39m\u001b[38;5;124m'\u001b[39m, color \u001b[38;5;241m=\u001b[39m \u001b[38;5;124m'\u001b[39m\u001b[38;5;124mred\u001b[39m\u001b[38;5;124m'\u001b[39m, s\u001b[38;5;241m=\u001b[39m\u001b[38;5;241m30\u001b[39m)\n\u001b[1;32m----> 5\u001b[0m     axs[i]\u001b[38;5;241m.\u001b[39mscatter(X_test_unscaled[:, k], y_test_unscaled[:,i], alpha \u001b[38;5;241m=\u001b[39m \u001b[38;5;241m0.3\u001b[39m, label \u001b[38;5;241m=\u001b[39m \u001b[38;5;124m'\u001b[39m\u001b[38;5;124mCalculated\u001b[39m\u001b[38;5;124m'\u001b[39m, color \u001b[38;5;241m=\u001b[39m \u001b[38;5;124m'\u001b[39m\u001b[38;5;124mblue\u001b[39m\u001b[38;5;124m'\u001b[39m, s\u001b[38;5;241m=\u001b[39m\u001b[38;5;241m10\u001b[39m)\n\u001b[0;32m      6\u001b[0m     axs[i]\u001b[38;5;241m.\u001b[39mset_ylabel(Target_Values\u001b[38;5;241m.\u001b[39mcolumns[i])\n\u001b[0;32m      7\u001b[0m     axs[i]\u001b[38;5;241m.\u001b[39mset_xlabel(Theoretical_data\u001b[38;5;241m.\u001b[39mcolumns[k])\n",
      "\u001b[1;31mIndexError\u001b[0m: index 1 is out of bounds for axis 1 with size 1"
     ]
    },
    {
     "data": {
      "image/png": "[encoded data removed]",
      "text/plain": [
       "<Figure size 1000x600 with 2 Axes>"
      ]
     },
     "metadata": {},
     "output_type": "display_data"
    }
   ],
   "source": [
    "for k in range(len(Theoretical_data.columns)):\n",
    "    fig, axs = plt.subplots(1, y_pred_unscaled.shape[1], figsize=(10, 6))\n",
    "    for i in range(y_pred_unscaled.shape[1]):\n",
    "        axs[i].scatter(X_test_unscaled[:, k], y_pred_unscaled[:, i], alpha = 0.2, label = 'Predicted', color = 'red', s=30)\n",
    "        axs[i].scatter(X_test_unscaled[:, k], y_test_total_unscaled[:,i], alpha = 0.3, label = 'Calculated', color = 'blue', s=10)\n",
    "        axs[i].set_ylabel(Target_Values.columns[i])\n",
    "        axs[i].set_xlabel(Theoretical_data.columns[k])\n",
    "        axs[i].set_yscale('log')\n",
    "        axs[i].set_xscale('log')\n",
    "    fig.suptitle(['Predicted (red) vs Calculated(blue) against', Theoretical_data.columns[k]])"
   ]
  }
 ],
 "metadata": {
  "kernelspec": {
   "display_name": "sklearn",
   "language": "python",
   "name": "python3"
  },
  "language_info": {
   "codemirror_mode": {
    "name": "ipython",
    "version": 3
   },
   "file_extension": ".py",
   "mimetype": "text/x-python",
   "name": "python",
   "nbconvert_exporter": "python",
   "pygments_lexer": "ipython3",
   "version": "3.12.2"
  }
 },
 "nbformat": 4,
 "nbformat_minor": 2
}
