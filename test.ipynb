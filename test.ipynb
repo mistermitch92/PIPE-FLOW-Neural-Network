{
 "cells": [
  {
   "cell_type": "code",
   "execution_count": 1,
   "metadata": {},
   "outputs": [],
   "source": [
    "#Mitch Delemeester\n",
    "#5/21/2024\n",
    "#Capillary Rheometry Theoretical Data Generation\n",
    "\n",
    "\n",
    "import numpy as np\n",
    "import matplotlib.pyplot as plt\n",
    "import pandas as pd"
   ]
  },
  {
   "cell_type": "code",
   "execution_count": 3,
   "metadata": {},
   "outputs": [
    {
     "name": "stderr",
     "output_type": "stream",
     "text": [
      "c:\\ProgramData\\miniconda3\\envs\\pipeflow\\Lib\\site-packages\\numpy\\core\\function_base.py:298: RuntimeWarning: overflow encountered in power\n",
      "  return _nx.power(base, y)\n"
     ]
    }
   ],
   "source": [
    "#GIVEN VALUES WE WILL EVENTUALLY TRY TO PREDICT\n",
    "\n",
    "yield_stress = np.linspace(0, 2.5E6, num=5) #yield stress (pascals)\n",
    "slip_yield_stress = np.linspace(0, 5.0E5, num=5) #slip yield stress (pascals)\n",
    "Beta = np.linspace(5E-11, 5E-9, num=5) #slip velocity coefficient\n",
    "thinning_index = np.linspace(0.5, 0.8, num=5) #shear thinning index\n",
    "Viscosity_consistency = np.linspace(800, 1300, num=5) #shear thinning consistency (pa.s^n)\n"
   ]
  },
  {
   "cell_type": "code",
   "execution_count": null,
   "metadata": {},
   "outputs": [],
   "source": [
    "#initial conditions:\n",
    "\n",
    "Diameter = np.array([0.5, 0.5, 0.5, 1.0, 1.0, 1.0, 1.5, 1.5, 1.5])*10**-3 #diameter (meters)\n",
    "Radius = Diameter/2 #radius (meters)\n",
    "\n",
    "aspectRatio = np.array([ 10, 20, 30, 10, 20, 30, 10, 15, 20]) #aspect ratio L/D\n",
    "Length = Diameter*aspectRatio #length (meters)\n",
    "\n",
    "G = np.linspace(1.5E10, 1.14E11, 5) #pressure gradient array (pascals/meter)"
   ]
  },
  {
   "cell_type": "code",
   "execution_count": null,
   "metadata": {},
   "outputs": [],
   "source": [
    "\n",
    "#empty array to store the data\n",
    "stored_theory_values = np.array([])\n",
    "stored_given_values = np.array([])\n",
    "\n",
    "\n",
    "#calculate the apparent wall shear rate (gamma_dot_apparent) for each case\n",
    "for ty in yield_stress:\n",
    "    for tys in slip_yield_stress:\n",
    "        for beta in Beta:\n",
    "            for n in thinning_index:\n",
    "                s = 1/n #shear thinning index reciprocal\n",
    "                for k in Viscosity_consistency:\n",
    "                    for ii in range(len(Radius)):\n",
    "                        for g_i in G:\n",
    "                            #pressure drop for each Radius/Aspect Ratio pair and the given pressure gradient (Pa)\n",
    "                            dP = g_i*Length[ii]\n",
    "                        \n",
    "                            #wall shear stress (Pa)\n",
    "                            tw = g_i*Radius[ii]/2\n",
    "\n",
    "                            #Radius of plug (meters)\n",
    "                            ri = Radius[ii]*ty/tw\n",
    "\n",
    "                            #thickness of slip layer (meters)\n",
    "                            delta = Radius[ii]*tys/tw\n",
    "\n",
    "                            #slip velocity (m/s)\n",
    "                            if tw > tys:\n",
    "                                vs0 = beta*tw\n",
    "                            else:\n",
    "                                vs0 = 0\n",
    "\n",
    "                            #plug velocity (m/s)\n",
    "                            if tw > ty:\n",
    "                                v0 = (g_i*(Radius[ii]-ri)**(s+1))/(2*k*(s+1))\n",
    "                            else:\n",
    "                                v0 = 0\n",
    "\n",
    "                            #volumetric flow rate from slip (m^3/s)\n",
    "                            Qslip = np.pi*Radius[ii]**2*vs0*(1-delta/Radius[ii])\n",
    "\n",
    "                            #volumetric flow rate from plug (m^3/s)\n",
    "                            Qplug = np.pi*v0*(Radius[ii]**2-2*(Radius[ii]-ri)**2/(s+3))\n",
    "\n",
    "                            #total volumetric flow rate (m^3/s)\n",
    "                            Qtot = Qslip + Qplug\n",
    "\n",
    "                            #apparent wall shear rate (1/s)\n",
    "                            gamma_dot_apparent = 4*Qtot/(np.pi*Radius[ii]**3)\n",
    "\n",
    "                            temp_theorydata = np.array([Radius[ii], aspectRatio[ii], dP, g_i, gamma_dot_apparent, Qtot])\n",
    "\n",
    "                            temp_givendata = np.array([ty, tys, beta, n, k])\n",
    "\n",
    "                            #store the theoretical data from each iteration in a matrix (turn into a pandas dataframe later)\n",
    "                            stored_theory_values = np.concatenate((stored_theory_values, temp_theorydata), axis = 0)\n",
    "\n",
    "                            #store the given data from each iteration in a matrix (turn into a pandas dataframe later)\n",
    "                            stored_given_values = np.concatenate((stored_given_values, temp_givendata), axis = 0)\n",
    "\n",
    "\n",
    "\n",
    "\n",
    "\n",
    "\n",
    "\n",
    "#reshape the stored data into a matrix\n",
    "stored_theory_values = np.reshape(stored_theory_values, (len(Radius)*len(G), 6))\n",
    "\n",
    "#convert the stored data into a pandas dataframe\n",
    "Theory_Data = pd.DataFrame(stored_theory_values, columns = ['Radius (m)', 'Aspect Ratio', 'Pressure Drop (Pa)', 'Pressure Gradient(Pa m^-1)', 'Apparent Wall Shear Rate (s^-1)', 'Volumetric Flow Rate (m^3 s^-1)'])\n",
    "\n",
    "#save the data to a csv file\n",
    "Theory_Data.to_csv('Theory_Data.csv', index = False)\n",
    "\n",
    "#reshape the given data into a matrix\n",
    "stored_given_values = np.reshape(stored_given_values, (len(Radius)*len(G), 5))\n",
    "\n",
    "#convert the stored data into a pandas dataframe\n",
    "Given_Data = pd.DataFrame(stored_given_values, columns = ['Yield Stress (Pa)', 'Slip Yield Stress (Pa)', 'Slip Velocity Coefficient', 'Shear Thinning Index', 'Shear Thinning Consistency (Pa s^n)'])\n",
    "\n",
    "#save the data to a csv file\n",
    "Given_Data.to_csv('Given_Data.csv', index = False)"
   ]
  }
 ],
 "metadata": {
  "kernelspec": {
   "display_name": "pipeflow",
   "language": "python",
   "name": "python3"
  },
  "language_info": {
   "codemirror_mode": {
    "name": "ipython",
    "version": 3
   },
   "file_extension": ".py",
   "mimetype": "text/x-python",
   "name": "python",
   "nbconvert_exporter": "python",
   "pygments_lexer": "ipython3",
   "version": "3.10.13"
  }
 },
 "nbformat": 4,
 "nbformat_minor": 2
}
